{
 "cells": [
  {
   "cell_type": "code",
   "execution_count": 1,
   "metadata": {},
   "outputs": [
    {
     "name": "stdout",
     "output_type": "stream",
     "text": [
      "/bin/bash: /opt/anaconda/envs/Python3/lib/libtinfo.so.6: no version information available (required by /bin/bash)\n",
      "\u001b[1m\n",
      "         .:::.     .::.       \n",
      "        ....yy:    .yy.       \n",
      "        :.  .yy.    y.        \n",
      "             :y:   .:         \n",
      "             .yy  .:          \n",
      "              yy..:           \n",
      "              :y:.            \n",
      "              .y.             \n",
      "             .:.              \n",
      "        ....:.                \n",
      "        :::.                  \n",
      "\u001b[0;33m\n",
      "• Project files and data should be stored in /project. This is shared among everyone\n",
      "  in the project.\n",
      "• Personal files and configuration should be stored in /home/faculty.\n",
      "• Files outside /project and /home/faculty will be lost when this server is terminated.\n",
      "• Create custom environments to setup your servers reproducibly.\n",
      "\u001b[0m\n",
      "bash: /opt/anaconda/envs/Python3/lib/libtinfo.so.6: no version information available (required by bash)\n",
      "Requirement already satisfied: pyDecision in /opt/anaconda/envs/Python3/lib/python3.9/site-packages (2.8.7)\n",
      "Requirement already satisfied: scikit-learn in /opt/anaconda/envs/Python3/lib/python3.9/site-packages (from pyDecision) (1.0.2)\n",
      "Requirement already satisfied: numpy in /opt/anaconda/envs/Python3/lib/python3.9/site-packages (from pyDecision) (1.21.5)\n",
      "Requirement already satisfied: scipy in /opt/anaconda/envs/Python3/lib/python3.9/site-packages (from pyDecision) (1.7.3)\n",
      "Requirement already satisfied: matplotlib in /opt/anaconda/envs/Python3/lib/python3.9/site-packages (from pyDecision) (3.5.3)\n",
      "Requirement already satisfied: python-dateutil>=2.7 in /opt/anaconda/envs/Python3/lib/python3.9/site-packages (from matplotlib->pyDecision) (2.8.2)\n",
      "Requirement already satisfied: kiwisolver>=1.0.1 in /opt/anaconda/envs/Python3/lib/python3.9/site-packages (from matplotlib->pyDecision) (1.4.2)\n",
      "Requirement already satisfied: pillow>=6.2.0 in /opt/anaconda/envs/Python3/lib/python3.9/site-packages (from matplotlib->pyDecision) (9.2.0)\n",
      "Requirement already satisfied: fonttools>=4.22.0 in /opt/anaconda/envs/Python3/lib/python3.9/site-packages (from matplotlib->pyDecision) (4.25.0)\n",
      "Requirement already satisfied: cycler>=0.10 in /opt/anaconda/envs/Python3/lib/python3.9/site-packages (from matplotlib->pyDecision) (0.11.0)\n",
      "Requirement already satisfied: pyparsing>=2.2.1 in /opt/anaconda/envs/Python3/lib/python3.9/site-packages (from matplotlib->pyDecision) (3.0.9)\n",
      "Requirement already satisfied: packaging>=20.0 in /opt/anaconda/envs/Python3/lib/python3.9/site-packages (from matplotlib->pyDecision) (21.3)\n",
      "Requirement already satisfied: threadpoolctl>=2.0.0 in /opt/anaconda/envs/Python3/lib/python3.9/site-packages (from scikit-learn->pyDecision) (2.2.0)\n",
      "Requirement already satisfied: joblib>=0.11 in /opt/anaconda/envs/Python3/lib/python3.9/site-packages (from scikit-learn->pyDecision) (1.1.1)\n",
      "Requirement already satisfied: six>=1.5 in /opt/anaconda/envs/Python3/lib/python3.9/site-packages (from python-dateutil>=2.7->matplotlib->pyDecision) (1.16.0)\n"
     ]
    }
   ],
   "source": [
    "!pip install pyDecision"
   ]
  },
  {
   "cell_type": "code",
   "execution_count": 2,
   "metadata": {},
   "outputs": [],
   "source": [
    "# Required Libraries\n",
    "import numpy as np\n",
    "import pandas as pd\n",
    "from sklearn.preprocessing import MinMaxScaler\n",
    "from pyDecision.algorithm import electre_tri_b"
   ]
  },
  {
   "cell_type": "code",
   "execution_count": 33,
   "metadata": {},
   "outputs": [
    {
     "data": {
      "text/html": [
       "<div>\n",
       "<style scoped>\n",
       "    .dataframe tbody tr th:only-of-type {\n",
       "        vertical-align: middle;\n",
       "    }\n",
       "\n",
       "    .dataframe tbody tr th {\n",
       "        vertical-align: top;\n",
       "    }\n",
       "\n",
       "    .dataframe thead th {\n",
       "        text-align: right;\n",
       "    }\n",
       "</style>\n",
       "<table border=\"1\" class=\"dataframe\">\n",
       "  <thead>\n",
       "    <tr style=\"text-align: right;\">\n",
       "      <th></th>\n",
       "      <th>geometry</th>\n",
       "      <th>Storefront</th>\n",
       "      <th>Visible Sign of Business</th>\n",
       "      <th>Business WiFi</th>\n",
       "      <th>Business tables</th>\n",
       "      <th>Business Plugs</th>\n",
       "      <th>Business Internal CCTV</th>\n",
       "      <th>External CCTV</th>\n",
       "      <th>Number of female employees</th>\n",
       "      <th>Accepts credit card</th>\n",
       "      <th>...</th>\n",
       "      <th>Injuries</th>\n",
       "      <th>Collision</th>\n",
       "      <th>Run over</th>\n",
       "      <th>Metro</th>\n",
       "      <th>Metrobus</th>\n",
       "      <th>Trolleybus</th>\n",
       "      <th>RTP</th>\n",
       "      <th>Concessioned</th>\n",
       "      <th>e-bike</th>\n",
       "      <th>Total coverage of transport</th>\n",
       "    </tr>\n",
       "  </thead>\n",
       "  <tbody>\n",
       "    <tr>\n",
       "      <th>0</th>\n",
       "      <td>POLYGON ((483895.6627641306 2147977.5123609374...</td>\n",
       "      <td>0.0</td>\n",
       "      <td>0.0</td>\n",
       "      <td>0.0</td>\n",
       "      <td>0.0</td>\n",
       "      <td>0.0</td>\n",
       "      <td>0.0</td>\n",
       "      <td>0.0</td>\n",
       "      <td>0.0</td>\n",
       "      <td>0.0</td>\n",
       "      <td>...</td>\n",
       "      <td>1.0</td>\n",
       "      <td>0.0</td>\n",
       "      <td>1.5</td>\n",
       "      <td>1.0</td>\n",
       "      <td>1.0</td>\n",
       "      <td>0.0</td>\n",
       "      <td>1.0</td>\n",
       "      <td>1.0</td>\n",
       "      <td>0.5</td>\n",
       "      <td>4.5</td>\n",
       "    </tr>\n",
       "    <tr>\n",
       "      <th>1</th>\n",
       "      <td>POLYGON ((483983.9277624827 2148086.839068036,...</td>\n",
       "      <td>0.0</td>\n",
       "      <td>0.0</td>\n",
       "      <td>0.0</td>\n",
       "      <td>0.0</td>\n",
       "      <td>0.0</td>\n",
       "      <td>0.0</td>\n",
       "      <td>0.0</td>\n",
       "      <td>0.0</td>\n",
       "      <td>0.0</td>\n",
       "      <td>...</td>\n",
       "      <td>0.0</td>\n",
       "      <td>0.0</td>\n",
       "      <td>0.0</td>\n",
       "      <td>1.0</td>\n",
       "      <td>1.0</td>\n",
       "      <td>0.0</td>\n",
       "      <td>1.0</td>\n",
       "      <td>1.0</td>\n",
       "      <td>0.5</td>\n",
       "      <td>4.5</td>\n",
       "    </tr>\n",
       "    <tr>\n",
       "      <th>2</th>\n",
       "      <td>POLYGON ((484015.5864170455 2148025.338677514,...</td>\n",
       "      <td>1.0</td>\n",
       "      <td>1.0</td>\n",
       "      <td>1.0</td>\n",
       "      <td>1.0</td>\n",
       "      <td>1.0</td>\n",
       "      <td>1.0</td>\n",
       "      <td>1.0</td>\n",
       "      <td>2.0</td>\n",
       "      <td>0.5</td>\n",
       "      <td>...</td>\n",
       "      <td>0.0</td>\n",
       "      <td>0.0</td>\n",
       "      <td>0.0</td>\n",
       "      <td>1.0</td>\n",
       "      <td>1.0</td>\n",
       "      <td>0.0</td>\n",
       "      <td>1.0</td>\n",
       "      <td>1.0</td>\n",
       "      <td>1.0</td>\n",
       "      <td>5.0</td>\n",
       "    </tr>\n",
       "  </tbody>\n",
       "</table>\n",
       "<p>3 rows × 74 columns</p>\n",
       "</div>"
      ],
      "text/plain": [
       "                                            geometry  Storefront  \\\n",
       "0  POLYGON ((483895.6627641306 2147977.5123609374...         0.0   \n",
       "1  POLYGON ((483983.9277624827 2148086.839068036,...         0.0   \n",
       "2  POLYGON ((484015.5864170455 2148025.338677514,...         1.0   \n",
       "\n",
       "   Visible Sign of Business  Business WiFi  Business tables  Business Plugs  \\\n",
       "0                       0.0            0.0              0.0             0.0   \n",
       "1                       0.0            0.0              0.0             0.0   \n",
       "2                       1.0            1.0              1.0             1.0   \n",
       "\n",
       "   Business Internal CCTV  External CCTV  Number of female employees  \\\n",
       "0                     0.0            0.0                         0.0   \n",
       "1                     0.0            0.0                         0.0   \n",
       "2                     1.0            1.0                         2.0   \n",
       "\n",
       "   Accepts credit card  ...  Injuries  Collision  Run over  Metro  Metrobus  \\\n",
       "0                  0.0  ...       1.0        0.0       1.5    1.0       1.0   \n",
       "1                  0.0  ...       0.0        0.0       0.0    1.0       1.0   \n",
       "2                  0.5  ...       0.0        0.0       0.0    1.0       1.0   \n",
       "\n",
       "   Trolleybus  RTP  Concessioned  e-bike  Total coverage of transport  \n",
       "0         0.0  1.0           1.0     0.5                          4.5  \n",
       "1         0.0  1.0           1.0     0.5                          4.5  \n",
       "2         0.0  1.0           1.0     1.0                          5.0  \n",
       "\n",
       "[3 rows x 74 columns]"
      ]
     },
     "execution_count": 33,
     "metadata": {},
     "output_type": "execute_result"
    }
   ],
   "source": [
    "# Load subset\n",
    "df = pd.read_csv('/project/processed_data/grouped_bymean_data.csv')\n",
    "df.head(3)"
   ]
  },
  {
   "cell_type": "markdown",
   "metadata": {},
   "source": [
    "Drop geometry"
   ]
  },
  {
   "cell_type": "code",
   "execution_count": 34,
   "metadata": {},
   "outputs": [],
   "source": [
    "df= df.drop(['geometry','Flooding'], axis=1)"
   ]
  },
  {
   "cell_type": "code",
   "execution_count": 35,
   "metadata": {},
   "outputs": [],
   "source": [
    "conditions = [\n",
    "    (df['excellent street lighting'] == 1),\n",
    "    (df['good street lighting'] == 1),\n",
    "    (df['regular street lighting'] == 1)\n",
    "]\n",
    "\n",
    "choices = [3, 2, 1]\n",
    "\n",
    "df['lighting'] = np.select(conditions, choices, default=0)\n"
   ]
  },
  {
   "cell_type": "code",
   "execution_count": 39,
   "metadata": {},
   "outputs": [],
   "source": [
    "df= df.drop(['excellent street lighting','good street lighting','regular street lighting'], \n",
    "            axis=1)"
   ]
  },
  {
   "cell_type": "code",
   "execution_count": 41,
   "metadata": {},
   "outputs": [],
   "source": [
    "conditions = [\n",
    "    (df['fully painted crosswalk'] == 1),\n",
    "    (df['partially painted crosswalk'] == 1),\n",
    "    (df['not painted crosswalk'] == 1)\n",
    "]\n",
    "\n",
    "choices = [3, 2, 1]\n",
    "\n",
    "df['crosswalk'] = np.select(conditions, choices, default=0)"
   ]
  },
  {
   "cell_type": "code",
   "execution_count": 42,
   "metadata": {},
   "outputs": [],
   "source": [
    "df= df.drop(['fully painted crosswalk', 'not painted crosswalk',\n",
    "       'partially painted crosswalk'], \n",
    "            axis=1)"
   ]
  },
  {
   "cell_type": "code",
   "execution_count": 43,
   "metadata": {},
   "outputs": [
    {
     "data": {
      "text/plain": [
       "Index(['Storefront', 'Visible Sign of Business', 'Business WiFi',\n",
       "       'Business tables', 'Business Plugs', 'Business Internal CCTV',\n",
       "       'External CCTV', 'Number of female employees', 'Accepts credit card',\n",
       "       'Incline', 'Width', 'Ramp conditions', 'Ramp // Crosswalk',\n",
       "       'Ramp obstacles', 'Crosswalk width', 'Vertical signs',\n",
       "       'Crossing length', 'Access to people with disabilities',\n",
       "       'Broken public property', 'Incivility', 'Obstacles',\n",
       "       'Physical aspects in poor condition', 'Poor infrastructure',\n",
       "       'Positive elements', 'Broken drain-cover', 'Drug addicts',\n",
       "       'Federal Judiciary', 'Panic button', 'Vandalism', 'graffiti',\n",
       "       'homelessness', 'inclined ramp', 'indication of security',\n",
       "       'mobile vendors', 'police presence', 'risky building', 'risky pavement',\n",
       "       'risky road', 'tourist map', 'trash', 'vehicle abandoned',\n",
       "       'Coffee Shop', 'Food joint', 'Ice Cream Shop', 'Lighting Stores',\n",
       "       'Restaurant', 'Open-Weekdays', 'Open-Weekends', 'Public WiFi',\n",
       "       'number of bikes', 'Mean Inhabitants', 'Employment', 'Crime Degree',\n",
       "       'school_count', 'hospitals_count', 'Deaths', 'Injuries', 'Collision',\n",
       "       'Run over', 'Metro', 'Metrobus', 'Trolleybus', 'RTP', 'Concessioned',\n",
       "       'e-bike', 'Total coverage of transport', 'lighting', 'crosswalk'],\n",
       "      dtype='object')"
      ]
     },
     "execution_count": 43,
     "metadata": {},
     "output_type": "execute_result"
    }
   ],
   "source": [
    "df.columns"
   ]
  },
  {
   "cell_type": "markdown",
   "metadata": {},
   "source": [
    "# Normalization"
   ]
  },
  {
   "cell_type": "code",
   "execution_count": 44,
   "metadata": {},
   "outputs": [],
   "source": [
    "# Set numerical columns\n",
    "df_columns_to_normalize = ['Number of female employees', 'Incline','Width','Ramp conditions',\n",
    "                           'Crosswalk width','Public WiFi', 'number of bikes', \n",
    "                           'Employment','Broken public property','lighting', 'crosswalk',\n",
    "                           'Crime Degree', 'school_count', 'hospitals_count',\n",
    "                           'Injuries', 'Collision', 'Run over', 'Total coverage of transport']\n",
    "\n",
    "n_scaler = MinMaxScaler()\n",
    "\n",
    "# Create a copy of DataFrame\n",
    "df_normalized = df.copy()\n",
    "\n",
    "df_normalized[df_columns_to_normalize] = n_scaler.fit_transform(df_normalized[df_columns_to_normalize])"
   ]
  },
  {
   "cell_type": "code",
   "execution_count": 46,
   "metadata": {},
   "outputs": [],
   "source": [
    "# Reverse the scale of the minimization criteria by subtracting from 1\n",
    "minimization_criteria = ['Crime Degree', 'Broken public property', 'homelessness',\n",
    "                         'risky road','Physical aspects in poor condition', \n",
    "                         'Incivility', 'Obstacles','risky building', 'risky pavement',\n",
    "                        'police presence','Ramp obstacles','Poor infrastructure',\n",
    "                        'Drug addicts','trash', 'vehicle abandoned',\n",
    "                        'Deaths', 'Injuries', 'Collision','Run over',]\n",
    "\n",
    "df_normalized[minimization_criteria] = 1 - df_normalized[minimization_criteria]"
   ]
  },
  {
   "cell_type": "code",
   "execution_count": 49,
   "metadata": {},
   "outputs": [
    {
     "data": {
      "text/plain": [
       "['Storefront',\n",
       " 'Visible Sign of Business',\n",
       " 'Business WiFi',\n",
       " 'Business tables',\n",
       " 'Business Plugs',\n",
       " 'Business Internal CCTV',\n",
       " 'External CCTV',\n",
       " 'Number of female employees',\n",
       " 'Accepts credit card',\n",
       " 'Incline',\n",
       " 'Width',\n",
       " 'Ramp conditions',\n",
       " 'Ramp // Crosswalk',\n",
       " 'Ramp obstacles',\n",
       " 'Crosswalk width',\n",
       " 'Vertical signs',\n",
       " 'Crossing length',\n",
       " 'Access to people with disabilities',\n",
       " 'Broken public property',\n",
       " 'Incivility',\n",
       " 'Obstacles',\n",
       " 'Physical aspects in poor condition',\n",
       " 'Poor infrastructure',\n",
       " 'Positive elements',\n",
       " 'Broken drain-cover',\n",
       " 'Drug addicts',\n",
       " 'Federal Judiciary',\n",
       " 'Panic button',\n",
       " 'Vandalism',\n",
       " 'graffiti',\n",
       " 'homelessness',\n",
       " 'inclined ramp',\n",
       " 'indication of security',\n",
       " 'mobile vendors',\n",
       " 'police presence',\n",
       " 'risky building',\n",
       " 'risky pavement',\n",
       " 'risky road',\n",
       " 'tourist map',\n",
       " 'trash',\n",
       " 'vehicle abandoned',\n",
       " 'Coffee Shop',\n",
       " 'Food joint',\n",
       " 'Ice Cream Shop',\n",
       " 'Lighting Stores',\n",
       " 'Restaurant',\n",
       " 'Open-Weekdays',\n",
       " 'Open-Weekends',\n",
       " 'Public WiFi',\n",
       " 'number of bikes',\n",
       " 'Mean Inhabitants',\n",
       " 'Employment',\n",
       " 'Crime Degree',\n",
       " 'school_count',\n",
       " 'hospitals_count',\n",
       " 'Deaths',\n",
       " 'Injuries',\n",
       " 'Collision',\n",
       " 'Run over',\n",
       " 'Metro',\n",
       " 'Metrobus',\n",
       " 'Trolleybus',\n",
       " 'RTP',\n",
       " 'Concessioned',\n",
       " 'e-bike',\n",
       " 'Total coverage of transport',\n",
       " 'lighting',\n",
       " 'crosswalk']"
      ]
     },
     "execution_count": 49,
     "metadata": {},
     "output_type": "execute_result"
    }
   ],
   "source": [
    "column_names"
   ]
  },
  {
   "cell_type": "markdown",
   "metadata": {},
   "source": [
    "# Parameter Selection"
   ]
  },
  {
   "cell_type": "markdown",
   "metadata": {},
   "source": [
    "## Weight\n"
   ]
  },
  {
   "cell_type": "code",
   "execution_count": 50,
   "metadata": {},
   "outputs": [
    {
     "name": "stdout",
     "output_type": "stream",
     "text": [
      "{'Storefront': 10, 'Visible Sign of Business': 7.5, 'Business WiFi': 5, 'Business tables': 6, 'Business Plugs': 9, 'Business Internal CCTV': 7.75, 'External CCTV': 8.5, 'Number of female employees': 10, 'Accepts credit card': 10, 'Incline': 8, 'Width': 4, 'Ramp conditions': 6.5, 'Ramp // Crosswalk': 8.5, 'Ramp obstacles': 9.5, 'Crosswalk width': 9, 'Vertical signs': 8.5, 'Crossing length': 6.5, 'Access to people with disabilities': 10, 'Broken public property': 9, 'Incivility': 9, 'Obstacles': 8, 'Physical aspects in poor condition': 9, 'Poor infrastructure': 9, 'Positive elements': 9, 'Broken drain-cover': 10, 'Drug addicts': 10, 'Federal Judiciary': 5, 'Panic button': 3.75, 'Vandalism': 10, 'graffiti': 4, 'homelessness': 8.25, 'inclined ramp': 7.5, 'indication of security': 5, 'mobile vendors': 5.5, 'police presence': 2.5, 'risky building': 10, 'risky pavement': 10, 'risky road': 9, 'tourist map': 9, 'trash': 10, 'vehicle abandoned': 3.5, 'Coffee Shop': 10, 'Food joint': 10, 'Ice Cream Shop': 7.5, 'Lighting Stores': 1.5, 'Restaurant': 10, 'Open-Weekdays': 9.5, 'Open-Weekends': 10, 'Public WiFi': 8, 'number of bikes': 5.5, 'Mean Inhabitants': 4.5, 'Employment': 7.5, 'Crime Degree': 10, 'school_count': 3.5, 'hospitals_count': 3, 'Deaths': 10, 'Injuries': 10, 'Collision': 8.5, 'Run over': 10, 'Metro': 6.5, 'Metrobus': 10, 'Trolleybus': 2.5, 'RTP': 2.5, 'Concessioned': 6.5, 'e-bike': 4.5, 'Total coverage of transport': 9, 'lighting': 10, 'crosswalk': 8}\n"
     ]
    }
   ],
   "source": [
    "# Create dictionary of importance scores given by experts\n",
    "\n",
    "# Get the column names as a list\n",
    "column_names = df_normalized.columns.tolist()\n",
    "column_names\n",
    "\n",
    "importances= [10,7.5,5,6,9,7.75,8.5,10,10,8,4,6.5,8.5,9.5,9,8.5,6.5,10,9,9,8,9,9,9,10,10,5,\n",
    "             3.75,10,4,8.25,7.5,5,5.5,2.5,10,10,9,9,10,3.5,10,10,7.5,1.5,10,9.5,10,8,5.5,\n",
    "             4.5,7.5,10,3.5,3,10,10,8.5,10,6.5,10,2.5,2.5,6.5,4.5,9,10,8]\n",
    "\n",
    "# Create the dictionary\n",
    "importance_dict = {column_names[i]: importances[i] for i in range(len(column_names))}\n",
    "\n",
    "\n",
    "print(importance_dict)"
   ]
  },
  {
   "cell_type": "code",
   "execution_count": 51,
   "metadata": {},
   "outputs": [],
   "source": [
    "importance_scores= np.array(importances)"
   ]
  },
  {
   "cell_type": "markdown",
   "metadata": {},
   "source": [
    "We normalize weights so that they all equal 1  to ensure that the weights represent a distribution of importance across all the criteria."
   ]
  },
  {
   "cell_type": "code",
   "execution_count": 52,
   "metadata": {},
   "outputs": [
    {
     "data": {
      "text/plain": [
       "array([0.01927711, 0.01445783, 0.00963855, 0.01156627, 0.0173494 ,\n",
       "       0.01493976, 0.01638554, 0.01927711, 0.01927711, 0.01542169,\n",
       "       0.00771084, 0.01253012, 0.01638554, 0.01831325, 0.0173494 ,\n",
       "       0.01638554, 0.01253012, 0.01927711, 0.0173494 , 0.0173494 ,\n",
       "       0.01542169, 0.0173494 , 0.0173494 , 0.0173494 , 0.01927711,\n",
       "       0.01927711, 0.00963855, 0.00722892, 0.01927711, 0.00771084,\n",
       "       0.01590361, 0.01445783, 0.00963855, 0.01060241, 0.00481928,\n",
       "       0.01927711, 0.01927711, 0.0173494 , 0.0173494 , 0.01927711,\n",
       "       0.00674699, 0.01927711, 0.01927711, 0.01445783, 0.00289157,\n",
       "       0.01927711, 0.01831325, 0.01927711, 0.01542169, 0.01060241,\n",
       "       0.0086747 , 0.01445783, 0.01927711, 0.00674699, 0.00578313,\n",
       "       0.01927711, 0.01927711, 0.01638554, 0.01927711, 0.01253012,\n",
       "       0.01927711, 0.00481928, 0.00481928, 0.01253012, 0.0086747 ,\n",
       "       0.0173494 , 0.01927711, 0.01542169])"
      ]
     },
     "execution_count": 52,
     "metadata": {},
     "output_type": "execute_result"
    }
   ],
   "source": [
    "normalized_weights = importance_scores / np.sum(importance_scores)\n",
    "\n",
    "normalized_weights"
   ]
  },
  {
   "cell_type": "code",
   "execution_count": 53,
   "metadata": {},
   "outputs": [],
   "source": [
    "W= list(normalized_weights)"
   ]
  },
  {
   "cell_type": "markdown",
   "metadata": {},
   "source": [
    "## Indifference Threshold"
   ]
  },
  {
   "cell_type": "code",
   "execution_count": 54,
   "metadata": {},
   "outputs": [
    {
     "name": "stdout",
     "output_type": "stream",
     "text": [
      "Unique values in column 'Business WiFi':\n",
      "[0.        0.8       0.9047619 1.       ]\n",
      "\n",
      "Unique values in column 'External CCTV':\n",
      "[0.  0.8 1. ]\n",
      "\n",
      "Unique values in column 'Number of female employees':\n",
      "[0.         0.05       0.1        0.12       0.13333333 0.2\n",
      " 0.225      0.24       0.25       0.3        0.35       0.36\n",
      " 0.4        0.41904762 0.45       0.5        0.7        1.        ]\n",
      "\n",
      "Unique values in column 'Accepts credit card':\n",
      "[0.   0.5  0.75]\n",
      "\n",
      "Unique values in column 'Incline':\n",
      "[0.         0.5        0.6        0.64285714 0.66666667 0.75\n",
      " 1.        ]\n",
      "\n",
      "Unique values in column 'Width':\n",
      "[0.         0.5        0.75       0.83333333 0.92857143 0.95\n",
      " 1.        ]\n",
      "\n",
      "Unique values in column 'Ramp conditions':\n",
      "[0.         0.5        0.66666667 0.83333333 0.85       0.92857143\n",
      " 1.        ]\n",
      "\n",
      "Unique values in column 'Ramp // Crosswalk':\n",
      "[0.         0.5        0.57142857 0.66666667 0.8        1.        ]\n",
      "\n",
      "Unique values in column 'Ramp obstacles':\n",
      "[0.         0.1        0.14285714 0.33333333 0.5        1.        ]\n",
      "\n",
      "Unique values in column 'Crosswalk width':\n",
      "[0.         0.33333333 0.5        0.57142857 0.66666667 0.8\n",
      " 1.        ]\n",
      "\n",
      "Unique values in column 'Vertical signs':\n",
      "[0.  0.1 1. ]\n",
      "\n",
      "Unique values in column 'Crossing length':\n",
      "[0.         0.5        0.66666667 0.7        1.        ]\n",
      "\n",
      "Unique values in column 'Access to people with disabilities':\n",
      "[0.         0.14285714 0.2        0.33333333 0.66666667 1.        ]\n",
      "\n",
      "Unique values in column 'Broken public property':\n",
      "[0.  0.5 1. ]\n",
      "\n",
      "Unique values in column 'mobile vendors':\n",
      "[0. 1. 2.]\n",
      "\n",
      "Unique values in column 'risky building':\n",
      "[-1.  0.  1.]\n",
      "\n",
      "Unique values in column 'Coffee Shop':\n",
      "[0.         0.2        0.33333333 0.5        0.75       1.        ]\n",
      "\n",
      "Unique values in column 'Food joint':\n",
      "[0.         0.2        0.33333333 0.5        0.66666667 0.8\n",
      " 1.        ]\n",
      "\n",
      "Unique values in column 'Ice Cream Shop':\n",
      "[0.  0.5]\n",
      "\n",
      "Unique values in column 'Lighting Stores':\n",
      "[0.         0.2        0.66666667 0.76190476 1.        ]\n",
      "\n",
      "Unique values in column 'Restaurant':\n",
      "[0.         0.23809524 0.25       0.4        0.5        1.        ]\n",
      "\n",
      "Unique values in column 'Open-Weekdays':\n",
      "[0.         0.66666667 0.95238095 1.        ]\n",
      "\n",
      "Unique values in column 'Open-Weekends':\n",
      "[0.         0.1        0.2        0.23809524 0.5        0.66666667\n",
      " 0.8        1.        ]\n",
      "\n",
      "Unique values in column 'Public WiFi':\n",
      "[0.     0.125  0.1875 0.25   0.3125 1.    ]\n",
      "\n",
      "Unique values in column 'number of bikes':\n",
      "[0.         0.375      0.41666667 0.45833333 0.47222222 0.5\n",
      " 0.52777778 0.54166667 0.58333333 0.61111111 0.625      0.63888889\n",
      " 0.65       0.66666667 0.69444444 0.70833333 0.72222222 0.72916667\n",
      " 0.75       0.79166667 0.83333333 0.86111111 0.91666667 1.        ]\n",
      "\n",
      "Unique values in column 'Mean Inhabitants':\n",
      "[0.53726456 0.55139684 0.57264102 0.57264102 0.59623003 0.61450768\n",
      " 0.63628205 0.64076007 0.64076007 0.64782852 0.65348986 0.65545157\n",
      " 0.659375   0.66503634 0.67069768 0.67069768 0.67761853 0.71351705\n",
      " 0.72373851 0.73492674 0.75025892 0.75592027 0.79069946]\n",
      "\n",
      "Unique values in column 'Employment':\n",
      "[0.    0.125 0.25  0.375 0.5   0.625 0.75  0.875 1.   ]\n",
      "\n",
      "Unique values in column 'Crime Degree':\n",
      "[0.         0.2        0.33333333 0.4        0.6        0.8\n",
      " 1.        ]\n",
      "\n",
      "Unique values in column 'school_count':\n",
      "[0.         0.01587302 0.03174603 0.04761905 0.06349206 0.07936508\n",
      " 0.11111111 0.12698413 0.17460317 0.23809524 0.26984127 0.36507937\n",
      " 0.49206349 0.55555556 0.74603175 0.84126984 1.        ]\n",
      "\n",
      "Unique values in column 'hospitals_count':\n",
      "[0.         0.00392157 0.00784314 0.01176471 0.01568627 0.01960784\n",
      " 0.02745098 0.04313725 0.05882353 0.09019608 0.10196078 0.12156863\n",
      " 0.18431373 0.20784314 0.24705882 0.37254902 0.41960784 0.63137255\n",
      " 1.        ]\n",
      "\n",
      "Unique values in column 'Deaths':\n",
      "[0.         0.5        0.66666667 1.        ]\n",
      "\n",
      "Unique values in column 'Injuries':\n",
      "[0.         0.6        0.8        0.86666667 1.        ]\n",
      "\n",
      "Unique values in column 'Run over':\n",
      "[0.         0.33333333 0.5        0.66666667 1.        ]\n",
      "\n",
      "Unique values in column 'Metrobus':\n",
      "[0.         0.5        0.66666667 1.        ]\n",
      "\n",
      "Unique values in column 'Trolleybus':\n",
      "[0.         0.33333333 0.5        0.66666667 1.        ]\n",
      "\n",
      "Unique values in column 'RTP':\n",
      "[0.         0.33333333 0.5        0.66666667 1.        ]\n",
      "\n",
      "Unique values in column 'e-bike':\n",
      "[0.         0.33333333 0.5        0.66666667 1.        ]\n",
      "\n",
      "Unique values in column 'Total coverage of transport':\n",
      "[0.         0.5        0.58333333 0.66666667 0.72222222 0.75\n",
      " 0.83333333 0.91666667 1.        ]\n",
      "\n",
      "Unique values in column 'lighting':\n",
      "[0.         0.33333333 0.66666667 1.        ]\n",
      "\n",
      "Unique values in column 'crosswalk':\n",
      "[0.         0.33333333 1.        ]\n",
      "\n"
     ]
    }
   ],
   "source": [
    "for column in df_normalized.columns:\n",
    "    unique_values = df_normalized[column].unique()\n",
    "    # Check if the unique values are only 0 and 1\n",
    "    if set(unique_values) != {0, 1}:\n",
    "        print(f\"Unique values in column '{column}':\")\n",
    "        print(np.sort(unique_values))\n",
    "        print()\n",
    "\n"
   ]
  },
  {
   "cell_type": "markdown",
   "metadata": {},
   "source": [
    "'Number of female employees' - 0.2\n",
    "\n",
    "'Incline'  0.07\n",
    "\n",
    "'Width' 0.1\n",
    "\n",
    "'Ramp conditions' 0.1\n",
    "\n",
    "'Ramp // Crosswalk' 0.1\n",
    "\n",
    "Ramp obstacles' 0.05\n",
    "\n",
    "'Restaurant' 0.2\n",
    "\n",
    "'Open-Weekends' 0.1\n"
   ]
  },
  {
   "cell_type": "code",
   "execution_count": 70,
   "metadata": {},
   "outputs": [
    {
     "name": "stdout",
     "output_type": "stream",
     "text": [
      "{'Storefront': 0, 'Visible Sign of Business': 0, 'Business WiFi': 0, 'Business tables': 0, 'Business Plugs': 0, 'Business Internal CCTV': 0, 'External CCTV': 0, 'Number of female employees': 0.2, 'Accepts credit card': 0, 'Incline': 0.07, 'Width': 0.1, 'Ramp conditions': 0.1, 'Ramp // Crosswalk': 0.1, 'Ramp obstacles': 0.05, 'Crosswalk width': 0, 'Vertical signs': 0, 'Crossing length': 0, 'Access to people with disabilities': 0, 'Broken public property': 0, 'Incivility': 0, 'Obstacles': 0, 'Physical aspects in poor condition': 0, 'Poor infrastructure': 0, 'Positive elements': 0, 'Broken drain-cover': 0, 'Drug addicts': 0, 'Federal Judiciary': 0, 'Panic button': 0, 'Vandalism': 0, 'graffiti': 0, 'homelessness': 0, 'inclined ramp': 0, 'indication of security': 0, 'mobile vendors': 0, 'police presence': 0, 'risky building': 0, 'risky pavement': 0, 'risky road': 0, 'tourist map': 0, 'trash': 0, 'vehicle abandoned': 0, 'Coffee Shop': 0, 'Food joint': 0, 'Ice Cream Shop': 0, 'Lighting Stores': 0, 'Restaurant': 0.2, 'Open-Weekdays': 0, 'Open-Weekends': 0.1, 'Public WiFi': 0, 'number of bikes': 0, 'Mean Inhabitants': 0, 'Employment': 0, 'Crime Degree': 0, 'school_count': 0, 'hospitals_count': 0, 'Deaths': 0, 'Injuries': 0, 'Collision': 0, 'Run over': 0, 'Metro': 0, 'Metrobus': 0, 'Trolleybus': 0, 'RTP': 0, 'Concessioned': 0, 'e-bike': 0, 'Total coverage of transport': 0, 'lighting': 0, 'crosswalk': 0}\n"
     ]
    }
   ],
   "source": [
    "# Create a dictionary where each key is a column name and each value is 0\n",
    "indifference_dict = {column: 0 for column in column_names}\n",
    "\n",
    "# Manually adjust the weights for the specific columns\n",
    "indifference_dict['Number of female employees'] = 0.2\n",
    "indifference_dict['Incline'] = 0.07\n",
    "indifference_dict['Width'] = 0.1\n",
    "indifference_dict['Ramp conditions'] = 0.1\n",
    "indifference_dict['Ramp // Crosswalk'] = 0.1\n",
    "indifference_dict['Ramp obstacles'] = 0.05\n",
    "indifference_dict['Restaurant'] = 0.2\n",
    "indifference_dict['Open-Weekends'] = 0.1\n",
    "\n",
    "print(indifference_dict)\n"
   ]
  },
  {
   "cell_type": "code",
   "execution_count": 74,
   "metadata": {},
   "outputs": [],
   "source": [
    "Q = list(indifference_dict.values())"
   ]
  },
  {
   "cell_type": "markdown",
   "metadata": {},
   "source": [
    " ## Preference Threshold"
   ]
  },
  {
   "cell_type": "code",
   "execution_count": 55,
   "metadata": {},
   "outputs": [
    {
     "data": {
      "text/plain": [
       "array([0.        , 0.2       , 0.33333333, 0.4       , 0.6       ,\n",
       "       0.8       , 1.        ])"
      ]
     },
     "execution_count": 55,
     "metadata": {},
     "output_type": "execute_result"
    }
   ],
   "source": [
    "np.sort(df_normalized['Crime Degree'].unique())"
   ]
  },
  {
   "cell_type": "markdown",
   "metadata": {},
   "source": [
    "0.05"
   ]
  },
  {
   "cell_type": "code",
   "execution_count": 56,
   "metadata": {},
   "outputs": [
    {
     "data": {
      "text/plain": [
       "array([0.        , 0.5       , 0.58333333, 0.66666667, 0.72222222,\n",
       "       0.75      , 0.83333333, 0.91666667, 1.        ])"
      ]
     },
     "execution_count": 56,
     "metadata": {},
     "output_type": "execute_result"
    }
   ],
   "source": [
    "np.sort(df_normalized['Total coverage of transport'].unique())"
   ]
  },
  {
   "cell_type": "markdown",
   "metadata": {},
   "source": [
    "0.2"
   ]
  },
  {
   "cell_type": "code",
   "execution_count": 58,
   "metadata": {},
   "outputs": [
    {
     "data": {
      "text/plain": [
       "array([0.        , 0.33333333, 0.66666667, 1.        ])"
      ]
     },
     "execution_count": 58,
     "metadata": {},
     "output_type": "execute_result"
    }
   ],
   "source": [
    "np.sort(df_normalized['lighting'].unique())"
   ]
  },
  {
   "cell_type": "markdown",
   "metadata": {},
   "source": [
    "0.3"
   ]
  },
  {
   "cell_type": "code",
   "execution_count": 59,
   "metadata": {},
   "outputs": [
    {
     "data": {
      "text/plain": [
       "array([0.        , 0.5       , 0.66666667, 0.83333333, 0.85      ,\n",
       "       0.92857143, 1.        ])"
      ]
     },
     "execution_count": 59,
     "metadata": {},
     "output_type": "execute_result"
    }
   ],
   "source": [
    "np.sort(df_normalized['Ramp conditions'].unique())"
   ]
  },
  {
   "cell_type": "markdown",
   "metadata": {},
   "source": [
    "0.3"
   ]
  },
  {
   "cell_type": "code",
   "execution_count": 60,
   "metadata": {},
   "outputs": [
    {
     "data": {
      "text/plain": [
       "array([0.        , 0.5       , 0.57142857, 0.66666667, 0.8       ,\n",
       "       1.        ])"
      ]
     },
     "execution_count": 60,
     "metadata": {},
     "output_type": "execute_result"
    }
   ],
   "source": [
    "np.sort(df_normalized['Ramp // Crosswalk'].unique())"
   ]
  },
  {
   "cell_type": "markdown",
   "metadata": {},
   "source": [
    "0.3"
   ]
  },
  {
   "cell_type": "code",
   "execution_count": 61,
   "metadata": {},
   "outputs": [
    {
     "data": {
      "text/plain": [
       "array([0.        , 0.1       , 0.14285714, 0.33333333, 0.5       ,\n",
       "       1.        ])"
      ]
     },
     "execution_count": 61,
     "metadata": {},
     "output_type": "execute_result"
    }
   ],
   "source": [
    "np.sort(df_normalized['Ramp obstacles'].unique())"
   ]
  },
  {
   "cell_type": "markdown",
   "metadata": {},
   "source": [
    "0.3"
   ]
  },
  {
   "cell_type": "code",
   "execution_count": 62,
   "metadata": {},
   "outputs": [
    {
     "data": {
      "text/plain": [
       "array([0.        , 0.33333333, 0.5       , 0.57142857, 0.66666667,\n",
       "       0.8       , 1.        ])"
      ]
     },
     "execution_count": 62,
     "metadata": {},
     "output_type": "execute_result"
    }
   ],
   "source": [
    "np.sort(df_normalized['Crosswalk width'].unique())"
   ]
  },
  {
   "cell_type": "markdown",
   "metadata": {},
   "source": [
    "0.3"
   ]
  },
  {
   "cell_type": "code",
   "execution_count": 75,
   "metadata": {},
   "outputs": [
    {
     "name": "stdout",
     "output_type": "stream",
     "text": [
      "{'Storefront': 0, 'Visible Sign of Business': 0, 'Business WiFi': 0, 'Business tables': 0, 'Business Plugs': 0, 'Business Internal CCTV': 0, 'External CCTV': 0, 'Number of female employees': 0, 'Accepts credit card': 0, 'Incline': 0, 'Width': 0, 'Ramp conditions': 0.3, 'Ramp // Crosswalk': 0.3, 'Ramp obstacles': 0.3, 'Crosswalk width': 0.3, 'Vertical signs': 0, 'Crossing length': 0, 'Access to people with disabilities': 0, 'Broken public property': 0, 'Incivility': 0, 'Obstacles': 0, 'Physical aspects in poor condition': 0, 'Poor infrastructure': 0, 'Positive elements': 0, 'Broken drain-cover': 0, 'Drug addicts': 0, 'Federal Judiciary': 0, 'Panic button': 0, 'Vandalism': 0, 'graffiti': 0, 'homelessness': 0, 'inclined ramp': 0, 'indication of security': 0, 'mobile vendors': 0, 'police presence': 0, 'risky building': 0, 'risky pavement': 0, 'risky road': 0, 'tourist map': 0, 'trash': 0, 'vehicle abandoned': 0, 'Coffee Shop': 0, 'Food joint': 0, 'Ice Cream Shop': 0, 'Lighting Stores': 0, 'Restaurant': 0, 'Open-Weekdays': 0, 'Open-Weekends': 0, 'Public WiFi': 0, 'number of bikes': 0, 'Mean Inhabitants': 0, 'Employment': 0, 'Crime Degree': 0.05, 'school_count': 0, 'hospitals_count': 0, 'Deaths': 0, 'Injuries': 0, 'Collision': 0, 'Run over': 0, 'Metro': 0, 'Metrobus': 0, 'Trolleybus': 0, 'RTP': 0, 'Concessioned': 0, 'e-bike': 0, 'Total coverage of transport': 0.2, 'lighting': 0.3, 'crosswalk': 0}\n"
     ]
    }
   ],
   "source": [
    "# Create a dictionary where each key is a column name and each value is 0\n",
    "preference_dict = {column: 0 for column in column_names}\n",
    "\n",
    "# Manually adjust the weights for the specific columns\n",
    "preference_dict['Total coverage of transport'] = 0.2\n",
    "preference_dict['Crime Degree'] = 0.05\n",
    "preference_dict['lighting'] = 0.3\n",
    "preference_dict['Ramp conditions'] = 0.3\n",
    "preference_dict['Ramp // Crosswalk'] = 0.3\n",
    "preference_dict['Ramp obstacles'] = 0.3\n",
    "preference_dict['Crosswalk width'] = 0.3\n",
    "\n",
    "\n",
    "print(preference_dict)"
   ]
  },
  {
   "cell_type": "code",
   "execution_count": 76,
   "metadata": {},
   "outputs": [],
   "source": [
    "P = list(preference_dict.values())"
   ]
  },
  {
   "cell_type": "markdown",
   "metadata": {},
   "source": [
    "## Veto Threshold"
   ]
  },
  {
   "cell_type": "code",
   "execution_count": 63,
   "metadata": {},
   "outputs": [
    {
     "data": {
      "text/plain": [
       "array([0.        , 0.2       , 0.33333333, 0.4       , 0.6       ,\n",
       "       0.8       , 1.        ])"
      ]
     },
     "execution_count": 63,
     "metadata": {},
     "output_type": "execute_result"
    }
   ],
   "source": [
    "np.sort(df_normalized['Crime Degree'].unique())"
   ]
  },
  {
   "cell_type": "markdown",
   "metadata": {},
   "source": [
    "0.1"
   ]
  },
  {
   "cell_type": "code",
   "execution_count": 64,
   "metadata": {},
   "outputs": [
    {
     "data": {
      "text/plain": [
       "array([0.        , 0.33333333, 0.5       , 0.66666667, 1.        ])"
      ]
     },
     "execution_count": 64,
     "metadata": {},
     "output_type": "execute_result"
    }
   ],
   "source": [
    "np.sort(df_normalized['Run over'].unique())"
   ]
  },
  {
   "cell_type": "markdown",
   "metadata": {},
   "source": [
    "0.1"
   ]
  },
  {
   "cell_type": "code",
   "execution_count": 65,
   "metadata": {},
   "outputs": [
    {
     "data": {
      "text/plain": [
       "array([0.        , 0.5       , 0.66666667, 1.        ])"
      ]
     },
     "execution_count": 65,
     "metadata": {},
     "output_type": "execute_result"
    }
   ],
   "source": [
    "np.sort(df_normalized['Deaths'].unique())"
   ]
  },
  {
   "cell_type": "markdown",
   "metadata": {},
   "source": [
    "0.1"
   ]
  },
  {
   "cell_type": "code",
   "execution_count": 66,
   "metadata": {},
   "outputs": [
    {
     "data": {
      "text/plain": [
       "array([0.        , 0.5       , 0.58333333, 0.66666667, 0.72222222,\n",
       "       0.75      , 0.83333333, 0.91666667, 1.        ])"
      ]
     },
     "execution_count": 66,
     "metadata": {},
     "output_type": "execute_result"
    }
   ],
   "source": [
    "np.sort(df_normalized['Total coverage of transport'].unique())"
   ]
  },
  {
   "cell_type": "markdown",
   "metadata": {},
   "source": [
    "0.2"
   ]
  },
  {
   "cell_type": "code",
   "execution_count": 77,
   "metadata": {},
   "outputs": [
    {
     "data": {
      "text/plain": [
       "array([0.        , 0.6       , 0.8       , 0.86666667, 1.        ])"
      ]
     },
     "execution_count": 77,
     "metadata": {},
     "output_type": "execute_result"
    }
   ],
   "source": [
    "np.sort(df_normalized['Injuries'].unique())"
   ]
  },
  {
   "cell_type": "markdown",
   "metadata": {},
   "source": [
    "0.1"
   ]
  },
  {
   "cell_type": "code",
   "execution_count": 78,
   "metadata": {},
   "outputs": [
    {
     "name": "stdout",
     "output_type": "stream",
     "text": [
      "{'Storefront': 0, 'Visible Sign of Business': 0, 'Business WiFi': 0, 'Business tables': 0, 'Business Plugs': 0, 'Business Internal CCTV': 0, 'External CCTV': 0, 'Number of female employees': 0, 'Accepts credit card': 0, 'Incline': 0, 'Width': 0, 'Ramp conditions': 0, 'Ramp // Crosswalk': 0, 'Ramp obstacles': 0, 'Crosswalk width': 0, 'Vertical signs': 0, 'Crossing length': 0, 'Access to people with disabilities': 0, 'Broken public property': 0, 'Incivility': 0, 'Obstacles': 0, 'Physical aspects in poor condition': 0, 'Poor infrastructure': 0, 'Positive elements': 0, 'Broken drain-cover': 0, 'Drug addicts': 0, 'Federal Judiciary': 0, 'Panic button': 0, 'Vandalism': 0, 'graffiti': 0, 'homelessness': 0, 'inclined ramp': 0, 'indication of security': 0, 'mobile vendors': 0, 'police presence': 0, 'risky building': 0, 'risky pavement': 0, 'risky road': 0, 'tourist map': 0, 'trash': 0, 'vehicle abandoned': 0, 'Coffee Shop': 0, 'Food joint': 0, 'Ice Cream Shop': 0, 'Lighting Stores': 0, 'Restaurant': 0, 'Open-Weekdays': 0, 'Open-Weekends': 0, 'Public WiFi': 0, 'number of bikes': 0, 'Mean Inhabitants': 0, 'Employment': 0, 'Crime Degree': 0.1, 'school_count': 0, 'hospitals_count': 0, 'Deaths': 0.1, 'Injuries': 0.1, 'Collision': 0, 'Run over': 0.1, 'Metro': 0, 'Metrobus': 0, 'Trolleybus': 0, 'RTP': 0, 'Concessioned': 0, 'e-bike': 0, 'Total coverage of transport': 0.2, 'lighting': 0, 'crosswalk': 0}\n"
     ]
    }
   ],
   "source": [
    "# Create a dictionary where each key is a column name and each value is 0\n",
    "veto_dict = {column: 0 for column in column_names}\n",
    "\n",
    "# Manually adjust the weights for the specific columns\n",
    "veto_dict['Run over'] = 0.1\n",
    "veto_dict['Crime Degree'] = 0.1\n",
    "veto_dict['Deaths'] = 0.1\n",
    "veto_dict['Total coverage of transport'] = 0.2\n",
    "veto_dict['Injuries'] = 0.1\n",
    "\n",
    "\n",
    "\n",
    "print(veto_dict)"
   ]
  },
  {
   "cell_type": "code",
   "execution_count": 79,
   "metadata": {},
   "outputs": [],
   "source": [
    "V = list(veto_dict.values())"
   ]
  }
 ],
 "metadata": {
  "kernelspec": {
   "display_name": "Python [conda env:Python3] *",
   "language": "python",
   "name": "conda-env-Python3-py"
  },
  "language_info": {
   "codemirror_mode": {
    "name": "ipython",
    "version": 3
   },
   "file_extension": ".py",
   "mimetype": "text/x-python",
   "name": "python",
   "nbconvert_exporter": "python",
   "pygments_lexer": "ipython3",
   "version": "3.9.15"
  }
 },
 "nbformat": 4,
 "nbformat_minor": 2
}
